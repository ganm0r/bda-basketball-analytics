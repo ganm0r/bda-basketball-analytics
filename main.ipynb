{
 "cells": [
  {
   "cell_type": "code",
   "execution_count": 11,
   "id": "879dfdbe",
   "metadata": {},
   "outputs": [],
   "source": [
    "%matplotlib inline\n",
    "import os\n",
    "\n",
    "import numpy as np\n",
    "import pandas as pd\n",
    "import seaborn as sns\n",
    "\n",
    "from matplotlib import pyplot as plt\n",
    "from pyspark.context import SparkContext\n",
    "from pyspark.sql import SQLContext\n",
    "from pyspark.sql.session import SparkSession\n",
    "from pyspark.ml.regression import LinearRegression\n",
    "from pyspark.ml.feature import VectorAssembler\n",
    "from pyspark.sql.functions import array, col, count, mean, sum, udf, when\n",
    "from pyspark.sql.types import DoubleType, IntegerType, StringType, Row\n",
    "from pyspark.sql.functions import sum, col, udf\n",
    "\n",
    "import warnings\n",
    "warnings.filterwarnings(\"ignore\")\n",
    "\n",
    "sns.set_style(\"white\")\n",
    "sns.set_color_codes()"
   ]
  },
  {
   "cell_type": "code",
   "execution_count": 2,
   "id": "e70cb63c",
   "metadata": {},
   "outputs": [
    {
     "data": {
      "text/html": [
       "<style>.container {width:80% !important;}</style>"
      ],
      "text/plain": [
       "<IPython.core.display.HTML object>"
      ]
     },
     "metadata": {},
     "output_type": "display_data"
    },
    {
     "data": {
      "text/html": [
       "<script>document.title = \"Using Python, Hadoop and Apache Spark to Analyze the NBA and the 3-point Shot\";</script>"
      ],
      "text/plain": [
       "<IPython.core.display.HTML object>"
      ]
     },
     "execution_count": 2,
     "metadata": {},
     "output_type": "execute_result"
    }
   ],
   "source": [
    "plt.style.use('fivethirtyeight')\n",
    "plt.rcParams['figure.figsize'] = (9, 5)\n",
    "plt.rcParams['font.family'] = 'serif'\n",
    "plt.rcParams['font.serif'] = 'Ubuntu'\n",
    "plt.rcParams['font.monospace'] = 'Ubuntu Mono'\n",
    "plt.rcParams['font.size'] = 9\n",
    "plt.rcParams['axes.labelsize'] = 11\n",
    "plt.rcParams['axes.labelweight'] = 'bold'\n",
    "plt.rcParams['xtick.labelsize'] = 11\n",
    "plt.rcParams['ytick.labelsize'] = 11\n",
    "plt.rcParams['legend.fontsize'] = 14\n",
    "plt.rcParams['figure.titlesize'] = 18\n",
    "\n",
    "display(HTML('<style>.container {width:80% !important;}</style>'))\n",
    "update_title = 'document.title = \"Using Python, Hadoop and Apache Spark to Analyze the NBA and the 3-point Shot\";'\n",
    "HTML('<script>{}</script>'.format(update_title))"
   ]
  },
  {
   "cell_type": "code",
   "execution_count": 18,
   "id": "73a597d1",
   "metadata": {},
   "outputs": [],
   "source": [
    "# sc = SparkContext('local')\n",
    "spark = SparkSession(sc)\n",
    "sqlContext = SQLContext(sc)"
   ]
  },
  {
   "cell_type": "code",
   "execution_count": 6,
   "id": "ed218594",
   "metadata": {},
   "outputs": [
    {
     "name": "stderr",
     "output_type": "stream",
     "text": [
      "                                                                                \r"
     ]
    }
   ],
   "source": [
    "df = spark.read.option('header','true')\\\n",
    "          .option('inferSchema','true')\\\n",
    "          .csv('hdfs://localhost:9000/basketball/data/season_totals.csv')"
   ]
  },
  {
   "cell_type": "code",
   "execution_count": 7,
   "id": "cc525704",
   "metadata": {},
   "outputs": [
    {
     "name": "stdout",
     "output_type": "stream",
     "text": [
      "22/10/05 14:52:39 WARN package: Truncated the string representation of a plan since it was too large. This behavior can be adjusted by setting 'spark.sql.debug.maxToStringFields'.\n"
     ]
    },
    {
     "data": {
      "text/plain": [
       "DataFrame[_c0: int, player: string, pos: string, age: int, team_id: string, g: int, gs: int, mp: int, fg: int, fga: int, fg_pct: double, fg3: int, fg3a: int, fg3_pct: double, fg2: int, fg2a: int, fg2_pct: double, efg_pct: double, ft: int, fta: int, ft_pct: double, orb: int, drb: int, trb: int, ast: int, stl: int, blk: int, tov: int, pf: int, pts: int, yr: int]"
      ]
     },
     "execution_count": 7,
     "metadata": {},
     "output_type": "execute_result"
    }
   ],
   "source": [
    "df.cache()"
   ]
  },
  {
   "cell_type": "code",
   "execution_count": 8,
   "id": "50ff117b",
   "metadata": {},
   "outputs": [
    {
     "name": "stdout",
     "output_type": "stream",
     "text": [
      "22/10/05 14:53:39 WARN CSVHeaderChecker: CSV header does not conform to the schema.\n",
      " Header: , player, pos, age, team_id, g, gs, mp, fg, fga, fg_pct, fg3, fg3a, fg3_pct, fg2, fg2a, fg2_pct, efg_pct, ft, fta, ft_pct, orb, drb, trb, ast, stl, blk, tov, pf, pts, yr\n",
      " Schema: _c0, player, pos, age, team_id, g, gs, mp, fg, fga, fg_pct, fg3, fg3a, fg3_pct, fg2, fg2a, fg2_pct, efg_pct, ft, fta, ft_pct, orb, drb, trb, ast, stl, blk, tov, pf, pts, yr\n",
      "Expected: _c0 but found: \n",
      "CSV file: hdfs://localhost:9000/basketball/data/season_totals.csv\n"
     ]
    },
    {
     "name": "stderr",
     "output_type": "stream",
     "text": [
      "                                                                                \r"
     ]
    },
    {
     "data": {
      "text/html": [
       "<div>\n",
       "<style scoped>\n",
       "    .dataframe tbody tr th:only-of-type {\n",
       "        vertical-align: middle;\n",
       "    }\n",
       "\n",
       "    .dataframe tbody tr th {\n",
       "        vertical-align: top;\n",
       "    }\n",
       "\n",
       "    .dataframe thead th {\n",
       "        text-align: right;\n",
       "    }\n",
       "</style>\n",
       "<table border=\"1\" class=\"dataframe\">\n",
       "  <thead>\n",
       "    <tr style=\"text-align: right;\">\n",
       "      <th></th>\n",
       "      <th>yr</th>\n",
       "      <th>player</th>\n",
       "      <th>age</th>\n",
       "      <th>pts</th>\n",
       "      <th>fg3</th>\n",
       "    </tr>\n",
       "  </thead>\n",
       "  <tbody>\n",
       "    <tr>\n",
       "      <th>0</th>\n",
       "      <td>1987</td>\n",
       "      <td>Jordan,Michael</td>\n",
       "      <td>23</td>\n",
       "      <td>3041</td>\n",
       "      <td>12</td>\n",
       "    </tr>\n",
       "    <tr>\n",
       "      <th>1</th>\n",
       "      <td>1988</td>\n",
       "      <td>Jordan,Michael</td>\n",
       "      <td>24</td>\n",
       "      <td>2868</td>\n",
       "      <td>7</td>\n",
       "    </tr>\n",
       "    <tr>\n",
       "      <th>2</th>\n",
       "      <td>2006</td>\n",
       "      <td>Bryant,Kobe</td>\n",
       "      <td>27</td>\n",
       "      <td>2832</td>\n",
       "      <td>180</td>\n",
       "    </tr>\n",
       "    <tr>\n",
       "      <th>3</th>\n",
       "      <td>2019</td>\n",
       "      <td>Harden,James</td>\n",
       "      <td>29</td>\n",
       "      <td>2818</td>\n",
       "      <td>378</td>\n",
       "    </tr>\n",
       "    <tr>\n",
       "      <th>4</th>\n",
       "      <td>1990</td>\n",
       "      <td>Jordan,Michael</td>\n",
       "      <td>26</td>\n",
       "      <td>2753</td>\n",
       "      <td>92</td>\n",
       "    </tr>\n",
       "    <tr>\n",
       "      <th>5</th>\n",
       "      <td>1989</td>\n",
       "      <td>Jordan,Michael</td>\n",
       "      <td>25</td>\n",
       "      <td>2633</td>\n",
       "      <td>27</td>\n",
       "    </tr>\n",
       "    <tr>\n",
       "      <th>6</th>\n",
       "      <td>2014</td>\n",
       "      <td>Durant,Kevin</td>\n",
       "      <td>25</td>\n",
       "      <td>2593</td>\n",
       "      <td>192</td>\n",
       "    </tr>\n",
       "    <tr>\n",
       "      <th>7</th>\n",
       "      <td>1980</td>\n",
       "      <td>Gervin,George</td>\n",
       "      <td>27</td>\n",
       "      <td>2585</td>\n",
       "      <td>32</td>\n",
       "    </tr>\n",
       "    <tr>\n",
       "      <th>8</th>\n",
       "      <td>1991</td>\n",
       "      <td>Jordan,Michael</td>\n",
       "      <td>27</td>\n",
       "      <td>2580</td>\n",
       "      <td>29</td>\n",
       "    </tr>\n",
       "    <tr>\n",
       "      <th>9</th>\n",
       "      <td>2017</td>\n",
       "      <td>Westbrook,Russell</td>\n",
       "      <td>28</td>\n",
       "      <td>2558</td>\n",
       "      <td>200</td>\n",
       "    </tr>\n",
       "  </tbody>\n",
       "</table>\n",
       "</div>"
      ],
      "text/plain": [
       "     yr             player  age   pts  fg3\n",
       "0  1987     Jordan,Michael   23  3041   12\n",
       "1  1988     Jordan,Michael   24  2868    7\n",
       "2  2006        Bryant,Kobe   27  2832  180\n",
       "3  2019       Harden,James   29  2818  378\n",
       "4  1990     Jordan,Michael   26  2753   92\n",
       "5  1989     Jordan,Michael   25  2633   27\n",
       "6  2014       Durant,Kevin   25  2593  192\n",
       "7  1980      Gervin,George   27  2585   32\n",
       "8  1991     Jordan,Michael   27  2580   29\n",
       "9  2017  Westbrook,Russell   28  2558  200"
      ]
     },
     "execution_count": 8,
     "metadata": {},
     "output_type": "execute_result"
    }
   ],
   "source": [
    "df.orderBy('pts',ascending = False).limit(10).toPandas()[['yr','player','age','pts','fg3']]"
   ]
  },
  {
   "cell_type": "code",
   "execution_count": 9,
   "id": "232cab69",
   "metadata": {},
   "outputs": [
    {
     "name": "stdout",
     "output_type": "stream",
     "text": [
      "['_c0', 'player', 'pos', 'age', 'team_id', 'g', 'gs', 'mp', 'fg', 'fga', 'fg_pct', 'fg3', 'fg3a', 'fg3_pct', 'fg2', 'fg2a', 'fg2_pct', 'efg_pct', 'ft', 'fta', 'ft_pct', 'orb', 'drb', 'trb', 'ast', 'stl', 'blk', 'tov', 'pf', 'pts', 'yr']\n"
     ]
    }
   ],
   "source": [
    "print(df.columns)"
   ]
  },
  {
   "cell_type": "code",
   "execution_count": 19,
   "id": "5a782fbc",
   "metadata": {},
   "outputs": [],
   "source": [
    "sqlContext.registerDataFrameAsTable(df, 'df')\n",
    "fga_py = sqlContext.sql('''SELECT yr,sum(fg3a)/sum(mp)*36 fg3a_p36m FROM df GROUP BY yr ORDER BY yr''')"
   ]
  },
  {
   "cell_type": "code",
   "execution_count": 38,
   "id": "f033f563",
   "metadata": {},
   "outputs": [
    {
     "data": {
      "image/png": "[encoded data removed]",
      "text/plain": [
       "<Figure size 432x288 with 1 Axes>"
      ]
     },
     "metadata": {},
     "output_type": "display_data"
    }
   ],
   "source": [
    "_df = fga_py.toPandas()\n",
    "plt.plot(_df.yr,_df.fg3a_p36m, color = '#00a79c')\n",
    "plt.xlabel('Year')\n",
    "plt.ylabel('Number of attempts')\n",
    "_=plt.title('Player average 3-point attempts (per 36 minutes)')\n",
    "_=plt.annotate('3 pointer introduced', xy=(1980.5, .5), xytext=(1981, 1.1), fontsize = 12,\n",
    "               arrowprops=dict(facecolor='grey', shrink=0.05, linewidth = 2))\n",
    "_=plt.annotate('NBA moved in\\n3-point line', xy=(1993.7, 1.5), xytext=(1987, 1.79), fontsize = 12,\n",
    "               arrowprops=dict(facecolor='grey', shrink=0.05, linewidth = 2))\n",
    "_=plt.annotate('NBA moved back\\n3-point line', xy=(1998, 2.), xytext=(1998.5, 2.4), fontsize = 12,\n",
    "               arrowprops=dict(facecolor='grey', shrink=0.05, linewidth = 2))\n",
    "plt.tight_layout()\n",
    "plt.grid()\n",
    "plt.savefig('results/3_point_trend.png')"
   ]
  },
  {
   "cell_type": "code",
   "execution_count": 39,
   "id": "e21ec648",
   "metadata": {},
   "outputs": [
    {
     "data": {
      "text/html": [
       "<div>\n",
       "<style scoped>\n",
       "    .dataframe tbody tr th:only-of-type {\n",
       "        vertical-align: middle;\n",
       "    }\n",
       "\n",
       "    .dataframe tbody tr th {\n",
       "        vertical-align: top;\n",
       "    }\n",
       "\n",
       "    .dataframe thead th {\n",
       "        text-align: right;\n",
       "    }\n",
       "</style>\n",
       "<table border=\"1\" class=\"dataframe\">\n",
       "  <thead>\n",
       "    <tr style=\"text-align: right;\">\n",
       "      <th></th>\n",
       "      <th>yr</th>\n",
       "      <th>fg3a_p36m</th>\n",
       "      <th>features</th>\n",
       "      <th>label</th>\n",
       "    </tr>\n",
       "  </thead>\n",
       "  <tbody>\n",
       "    <tr>\n",
       "      <th>0</th>\n",
       "      <td>1980</td>\n",
       "      <td>0.410089</td>\n",
       "      <td>[1980.0]</td>\n",
       "      <td>0.410089</td>\n",
       "    </tr>\n",
       "    <tr>\n",
       "      <th>1</th>\n",
       "      <td>1981</td>\n",
       "      <td>0.309376</td>\n",
       "      <td>[1981.0]</td>\n",
       "      <td>0.309376</td>\n",
       "    </tr>\n",
       "    <tr>\n",
       "      <th>2</th>\n",
       "      <td>1982</td>\n",
       "      <td>0.341511</td>\n",
       "      <td>[1982.0]</td>\n",
       "      <td>0.341511</td>\n",
       "    </tr>\n",
       "    <tr>\n",
       "      <th>3</th>\n",
       "      <td>1983</td>\n",
       "      <td>0.331479</td>\n",
       "      <td>[1983.0]</td>\n",
       "      <td>0.331479</td>\n",
       "    </tr>\n",
       "    <tr>\n",
       "      <th>4</th>\n",
       "      <td>1984</td>\n",
       "      <td>0.357110</td>\n",
       "      <td>[1984.0]</td>\n",
       "      <td>0.357110</td>\n",
       "    </tr>\n",
       "  </tbody>\n",
       "</table>\n",
       "</div>"
      ],
      "text/plain": [
       "     yr  fg3a_p36m  features     label\n",
       "0  1980   0.410089  [1980.0]  0.410089\n",
       "1  1981   0.309376  [1981.0]  0.309376\n",
       "2  1982   0.341511  [1982.0]  0.341511\n",
       "3  1983   0.331479  [1983.0]  0.331479\n",
       "4  1984   0.357110  [1984.0]  0.357110"
      ]
     },
     "execution_count": 39,
     "metadata": {},
     "output_type": "execute_result"
    }
   ],
   "source": [
    "t = VectorAssembler(inputCols=['yr'], outputCol = 'features')\n",
    "\n",
    "training = t.transform(fga_py)\\\n",
    "            .withColumn('yr',fga_py.yr)\\\n",
    "            .withColumn('label',fga_py.fg3a_p36m)\n",
    "\n",
    "training.toPandas().head()"
   ]
  },
  {
   "cell_type": "code",
   "execution_count": 40,
   "id": "bb6e4c97",
   "metadata": {},
   "outputs": [
    {
     "name": "stdout",
     "output_type": "stream",
     "text": [
      "22/10/05 15:18:27 WARN Instrumentation: [d8e594d5] regParam is zero, which might cause numerical instability and overfitting.\n"
     ]
    }
   ],
   "source": [
    "lr = LinearRegression(maxIter=10)\n",
    "model = lr.fit(training)"
   ]
  },
  {
   "cell_type": "code",
   "execution_count": 41,
   "id": "15a5f75a",
   "metadata": {},
   "outputs": [
    {
     "name": "stderr",
     "output_type": "stream",
     "text": [
      "\r",
      "[Stage 101:>                                                        (0 + 1) / 1]\r",
      "\r",
      "                                                                                \r"
     ]
    }
   ],
   "source": [
    "training_yrs = training.select('yr').rdd.map(lambda x: x[0]).collect()\n",
    "training_y = training.select('fg3a_p36m').rdd.map(lambda x: x[0]).collect()\n",
    "prediction_yrs = [2022, 2023, 2024, 2025, 2026]\n",
    "all_yrs = training_yrs + prediction_yrs\n",
    "\n",
    "test_rdd = sc.parallelize(all_yrs)\n",
    "row = Row('yr')\n",
    "all_years_features = t.transform(test_rdd.map(row).toDF())\n",
    "\n",
    "df_results = model.transform(all_years_features).toPandas()"
   ]
  },
  {
   "cell_type": "code",
   "execution_count": 42,
   "id": "bc9fe513",
   "metadata": {},
   "outputs": [
    {
     "data": {
      "image/png": "[encoded data removed]",
      "text/plain": [
       "<Figure size 432x288 with 1 Axes>"
      ]
     },
     "metadata": {},
     "output_type": "display_data"
    }
   ],
   "source": [
    "plt.plot(df_results.yr,df_results.prediction, linewidth = 2, linestyle = '--',color = '#fc4f30', label = 'L2 Fit')\n",
    "plt.plot(training_yrs, training_y, color = '#00a79c', label = None)\n",
    "plt.xlabel('Year')\n",
    "plt.ylabel('Number of attempts')\n",
    "plt.legend(loc = 4)\n",
    "_=plt.title('Player average 3-point attempts (per 36 minutes)')\n",
    "plt.tight_layout()\n",
    "plt.grid()\n",
    "plt.savefig('results/model_prediction.png')"
   ]
  }
 ],
 "metadata": {
  "kernelspec": {
   "display_name": "Python 3 (ipykernel)",
   "language": "python",
   "name": "python3"
  },
  "language_info": {
   "codemirror_mode": {
    "name": "ipython",
    "version": 3
   },
   "file_extension": ".py",
   "mimetype": "text/x-python",
   "name": "python",
   "nbconvert_exporter": "python",
   "pygments_lexer": "ipython3",
   "version": "3.10.6"
  }
 },
 "nbformat": 4,
 "nbformat_minor": 5
}
