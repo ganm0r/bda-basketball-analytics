{
 "cells": [
  {
   "cell_type": "code",
   "execution_count": 9,
   "id": "21827d77",
   "metadata": {},
   "outputs": [],
   "source": [
    "from bs4 import BeautifulSoup\n",
    "import pandas as pd\n",
    "import requests"
   ]
  },
  {
   "cell_type": "code",
   "execution_count": 2,
   "id": "8cca35a2",
   "metadata": {},
   "outputs": [],
   "source": [
    "def parse_html_table(html_table):\n",
    "    data = []\n",
    "    cur_row = []\n",
    "    row_names = []\n",
    "    for ele in html_table:\n",
    "        stat_name  = ele['data-stat']\n",
    "        stat_value = ele.string\n",
    "        new_row = (stat_name == 'player')\n",
    "        if new_row:\n",
    "            if cur_row:\n",
    "                data.append(cur_row)\n",
    "            cur_row = []\n",
    "            col_names = []\n",
    "            cur_row.append(ele['csk']) \n",
    "            col_names.append(stat_name)\n",
    "            continue\n",
    "        cur_row.append(stat_value)\n",
    "        col_names.append(stat_name)\n",
    "    return data, col_names"
   ]
  },
  {
   "cell_type": "code",
   "execution_count": 10,
   "id": "8b54a3dd",
   "metadata": {},
   "outputs": [],
   "source": [
    "dfs = []\n",
    "\n",
    "for year in range(1980,(2021 + 1)):\n",
    "    url = 'http://www.basketball-reference.com/leagues/NBA_{year}_totals.html'.format(year = year)\n",
    "    r = requests.get(url)\n",
    "    soup = BeautifulSoup(r.text)\n",
    "    yr_data, col_names = parse_html_table(soup.findAll('td'))\n",
    "    df = pd.DataFrame(yr_data, columns = col_names)\n",
    "    df['yr'] = year\n",
    "    dfs.append(df)\n",
    "\n",
    "all_seasons = pd.concat(dfs)\n",
    "all_seasons.to_csv('data/season_totals.csv')"
   ]
  }
 ],
 "metadata": {
  "kernelspec": {
   "display_name": "Python 3 (ipykernel)",
   "language": "python",
   "name": "python3"
  },
  "language_info": {
   "codemirror_mode": {
    "name": "ipython",
    "version": 3
   },
   "file_extension": ".py",
   "mimetype": "text/x-python",
   "name": "python",
   "nbconvert_exporter": "python",
   "pygments_lexer": "ipython3",
   "version": "3.10.6"
  }
 },
 "nbformat": 4,
 "nbformat_minor": 5
}
